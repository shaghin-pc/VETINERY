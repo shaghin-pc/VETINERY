{
  "nbformat": 4,
  "nbformat_minor": 0,
  "metadata": {
    "colab": {
      "name": "CNN code.ipynb",
      "provenance": [],
      "authorship_tag": "ABX9TyM2FLhBMTP83Paha5RCxb7x",
      "include_colab_link": true
    },
    "kernelspec": {
      "name": "python3",
      "display_name": "Python 3"
    },
    "language_info": {
      "name": "python"
    }
  },
  "cells": [
    {
      "cell_type": "markdown",
      "metadata": {
        "id": "view-in-github",
        "colab_type": "text"
      },
      "source": [
        "<a href=\"https://colab.research.google.com/github/shaghin-pc/VETINERY/blob/master/CNN_code.ipynb\" target=\"_parent\"><img src=\"https://colab.research.google.com/assets/colab-badge.svg\" alt=\"Open In Colab\"/></a>"
      ]
    },
    {
      "cell_type": "code",
      "metadata": {
        "id": "fCt79vBK8mIE"
      },
      "source": [
        "import tensorflow as tf\n",
        "from tensorflow.keras.layers import Conv2D,MaxPooling2D,Dropout,Flatten,Dense \n",
        "from tensorflow.keras import utils as np_utils\n",
        "from tensorflow import keras\n",
        "\n",
        "import os \n",
        "import sys\n",
        "import numpy as np\n",
        "\n",
        "import pandas as pd\n",
        "import matplotlib.pyplot as plt\n",
        "import seaborn as sns\n",
        "import IPython\n",
        "import cv2\n",
        "from six.moves import urllib  "
      ],
      "execution_count": 1,
      "outputs": []
    },
    {
      "cell_type": "code",
      "metadata": {
        "colab": {
          "base_uri": "https://localhost:8080/",
          "height": 439
        },
        "id": "EAf35kIU8soy",
        "outputId": "c72dfc34-2c15-41ea-86e4-eb05849388fe"
      },
      "source": [
        "df=pd.read_csv(\"/content/housepricedata.csv - housepricedata.csv.csv\")\n",
        "df"
      ],
      "execution_count": 2,
      "outputs": [
        {
          "output_type": "execute_result",
          "data": {
            "text/html": [
              "<div>\n",
              "<style scoped>\n",
              "    .dataframe tbody tr th:only-of-type {\n",
              "        vertical-align: middle;\n",
              "    }\n",
              "\n",
              "    .dataframe tbody tr th {\n",
              "        vertical-align: top;\n",
              "    }\n",
              "\n",
              "    .dataframe thead th {\n",
              "        text-align: right;\n",
              "    }\n",
              "</style>\n",
              "<table border=\"1\" class=\"dataframe\">\n",
              "  <thead>\n",
              "    <tr style=\"text-align: right;\">\n",
              "      <th></th>\n",
              "      <th>LotArea</th>\n",
              "      <th>OverallQual</th>\n",
              "      <th>OverallCond</th>\n",
              "      <th>TotalBsmtSF</th>\n",
              "      <th>FullBath</th>\n",
              "      <th>HalfBath</th>\n",
              "      <th>BedroomAbvGr</th>\n",
              "      <th>TotRmsAbvGrd</th>\n",
              "      <th>Fireplaces</th>\n",
              "      <th>GarageArea</th>\n",
              "      <th>AboveMedianPrice</th>\n",
              "    </tr>\n",
              "  </thead>\n",
              "  <tbody>\n",
              "    <tr>\n",
              "      <th>0</th>\n",
              "      <td>8450</td>\n",
              "      <td>7</td>\n",
              "      <td>5</td>\n",
              "      <td>856</td>\n",
              "      <td>2</td>\n",
              "      <td>1</td>\n",
              "      <td>3</td>\n",
              "      <td>8</td>\n",
              "      <td>0</td>\n",
              "      <td>548</td>\n",
              "      <td>1</td>\n",
              "    </tr>\n",
              "    <tr>\n",
              "      <th>1</th>\n",
              "      <td>9600</td>\n",
              "      <td>6</td>\n",
              "      <td>8</td>\n",
              "      <td>1262</td>\n",
              "      <td>2</td>\n",
              "      <td>0</td>\n",
              "      <td>3</td>\n",
              "      <td>6</td>\n",
              "      <td>1</td>\n",
              "      <td>460</td>\n",
              "      <td>1</td>\n",
              "    </tr>\n",
              "    <tr>\n",
              "      <th>2</th>\n",
              "      <td>11250</td>\n",
              "      <td>7</td>\n",
              "      <td>5</td>\n",
              "      <td>920</td>\n",
              "      <td>2</td>\n",
              "      <td>1</td>\n",
              "      <td>3</td>\n",
              "      <td>6</td>\n",
              "      <td>1</td>\n",
              "      <td>608</td>\n",
              "      <td>1</td>\n",
              "    </tr>\n",
              "    <tr>\n",
              "      <th>3</th>\n",
              "      <td>9550</td>\n",
              "      <td>7</td>\n",
              "      <td>5</td>\n",
              "      <td>756</td>\n",
              "      <td>1</td>\n",
              "      <td>0</td>\n",
              "      <td>3</td>\n",
              "      <td>7</td>\n",
              "      <td>1</td>\n",
              "      <td>642</td>\n",
              "      <td>0</td>\n",
              "    </tr>\n",
              "    <tr>\n",
              "      <th>4</th>\n",
              "      <td>14260</td>\n",
              "      <td>8</td>\n",
              "      <td>5</td>\n",
              "      <td>1145</td>\n",
              "      <td>2</td>\n",
              "      <td>1</td>\n",
              "      <td>4</td>\n",
              "      <td>9</td>\n",
              "      <td>1</td>\n",
              "      <td>836</td>\n",
              "      <td>1</td>\n",
              "    </tr>\n",
              "    <tr>\n",
              "      <th>...</th>\n",
              "      <td>...</td>\n",
              "      <td>...</td>\n",
              "      <td>...</td>\n",
              "      <td>...</td>\n",
              "      <td>...</td>\n",
              "      <td>...</td>\n",
              "      <td>...</td>\n",
              "      <td>...</td>\n",
              "      <td>...</td>\n",
              "      <td>...</td>\n",
              "      <td>...</td>\n",
              "    </tr>\n",
              "    <tr>\n",
              "      <th>1455</th>\n",
              "      <td>7917</td>\n",
              "      <td>6</td>\n",
              "      <td>5</td>\n",
              "      <td>953</td>\n",
              "      <td>2</td>\n",
              "      <td>1</td>\n",
              "      <td>3</td>\n",
              "      <td>7</td>\n",
              "      <td>1</td>\n",
              "      <td>460</td>\n",
              "      <td>1</td>\n",
              "    </tr>\n",
              "    <tr>\n",
              "      <th>1456</th>\n",
              "      <td>13175</td>\n",
              "      <td>6</td>\n",
              "      <td>6</td>\n",
              "      <td>1542</td>\n",
              "      <td>2</td>\n",
              "      <td>0</td>\n",
              "      <td>3</td>\n",
              "      <td>7</td>\n",
              "      <td>2</td>\n",
              "      <td>500</td>\n",
              "      <td>1</td>\n",
              "    </tr>\n",
              "    <tr>\n",
              "      <th>1457</th>\n",
              "      <td>9042</td>\n",
              "      <td>7</td>\n",
              "      <td>9</td>\n",
              "      <td>1152</td>\n",
              "      <td>2</td>\n",
              "      <td>0</td>\n",
              "      <td>4</td>\n",
              "      <td>9</td>\n",
              "      <td>2</td>\n",
              "      <td>252</td>\n",
              "      <td>1</td>\n",
              "    </tr>\n",
              "    <tr>\n",
              "      <th>1458</th>\n",
              "      <td>9717</td>\n",
              "      <td>5</td>\n",
              "      <td>6</td>\n",
              "      <td>1078</td>\n",
              "      <td>1</td>\n",
              "      <td>0</td>\n",
              "      <td>2</td>\n",
              "      <td>5</td>\n",
              "      <td>0</td>\n",
              "      <td>240</td>\n",
              "      <td>0</td>\n",
              "    </tr>\n",
              "    <tr>\n",
              "      <th>1459</th>\n",
              "      <td>9937</td>\n",
              "      <td>5</td>\n",
              "      <td>6</td>\n",
              "      <td>1256</td>\n",
              "      <td>1</td>\n",
              "      <td>1</td>\n",
              "      <td>3</td>\n",
              "      <td>6</td>\n",
              "      <td>0</td>\n",
              "      <td>276</td>\n",
              "      <td>0</td>\n",
              "    </tr>\n",
              "  </tbody>\n",
              "</table>\n",
              "<p>1460 rows × 11 columns</p>\n",
              "</div>"
            ],
            "text/plain": [
              "      LotArea  OverallQual  ...  GarageArea  AboveMedianPrice\n",
              "0        8450            7  ...         548                 1\n",
              "1        9600            6  ...         460                 1\n",
              "2       11250            7  ...         608                 1\n",
              "3        9550            7  ...         642                 0\n",
              "4       14260            8  ...         836                 1\n",
              "...       ...          ...  ...         ...               ...\n",
              "1455     7917            6  ...         460                 1\n",
              "1456    13175            6  ...         500                 1\n",
              "1457     9042            7  ...         252                 1\n",
              "1458     9717            5  ...         240                 0\n",
              "1459     9937            5  ...         276                 0\n",
              "\n",
              "[1460 rows x 11 columns]"
            ]
          },
          "metadata": {
            "tags": []
          },
          "execution_count": 2
        }
      ]
    },
    {
      "cell_type": "code",
      "metadata": {
        "colab": {
          "base_uri": "https://localhost:8080/"
        },
        "id": "yt2lc7V08wM0",
        "outputId": "17283651-35b8-442f-9b6b-3a5c83550ed6"
      },
      "source": [
        "#Data to Array Conversion\n",
        "datasetvalue = df.values\n",
        "datasetvalue"
      ],
      "execution_count": 3,
      "outputs": [
        {
          "output_type": "execute_result",
          "data": {
            "text/plain": [
              "array([[ 8450,     7,     5, ...,     0,   548,     1],\n",
              "       [ 9600,     6,     8, ...,     1,   460,     1],\n",
              "       [11250,     7,     5, ...,     1,   608,     1],\n",
              "       ...,\n",
              "       [ 9042,     7,     9, ...,     2,   252,     1],\n",
              "       [ 9717,     5,     6, ...,     0,   240,     0],\n",
              "       [ 9937,     5,     6, ...,     0,   276,     0]])"
            ]
          },
          "metadata": {
            "tags": []
          },
          "execution_count": 3
        }
      ]
    },
    {
      "cell_type": "code",
      "metadata": {
        "id": "mh7sKjkO8znk"
      },
      "source": [
        "#dataset splitting\n",
        "X = datasetvalue[:,0:10] \n",
        "Y = datasetvalue[:,10]"
      ],
      "execution_count": 4,
      "outputs": []
    },
    {
      "cell_type": "code",
      "metadata": {
        "colab": {
          "base_uri": "https://localhost:8080/"
        },
        "id": "TYpoCgBM82Sp",
        "outputId": "209f3d48-f256-4a23-fe81-b1e703d2fd87"
      },
      "source": [
        "#building moddel in commen format\n",
        "from sklearn import preprocessing\n",
        "max_min_scaler = preprocessing.MinMaxScaler()\n",
        "X_scaler = max_min_scaler.fit_transform(X)\n",
        "X_scaler"
      ],
      "execution_count": 5,
      "outputs": [
        {
          "output_type": "execute_result",
          "data": {
            "text/plain": [
              "array([[0.0334198 , 0.66666667, 0.5       , ..., 0.5       , 0.        ,\n",
              "        0.3864598 ],\n",
              "       [0.03879502, 0.55555556, 0.875     , ..., 0.33333333, 0.33333333,\n",
              "        0.32440056],\n",
              "       [0.04650728, 0.66666667, 0.5       , ..., 0.33333333, 0.33333333,\n",
              "        0.42877292],\n",
              "       ...,\n",
              "       [0.03618687, 0.66666667, 1.        , ..., 0.58333333, 0.66666667,\n",
              "        0.17771509],\n",
              "       [0.03934189, 0.44444444, 0.625     , ..., 0.25      , 0.        ,\n",
              "        0.16925247],\n",
              "       [0.04037019, 0.44444444, 0.625     , ..., 0.33333333, 0.        ,\n",
              "        0.19464034]])"
            ]
          },
          "metadata": {
            "tags": []
          },
          "execution_count": 5
        }
      ]
    },
    {
      "cell_type": "code",
      "metadata": {
        "colab": {
          "base_uri": "https://localhost:8080/"
        },
        "id": "LpmpcYY286a-",
        "outputId": "f3606212-b2be-4f7e-8fe8-ffbdb4916711"
      },
      "source": [
        "#spliting data to train data, test data, validation data\n",
        "from sklearn.model_selection import train_test_split\n",
        "X_train, X_val_and_test, Y_train, Y_val_and_test = train_test_split(X_scaler, Y, test_size=0.2)\n",
        "X_val, X_test, Y_val, Y_test = train_test_split(X_val_and_test, Y_val_and_test, test_size=0.5)\n",
        "#the training set has 1022 data points while the validation and test set has 219 data points each. The X variables have 10 input features, while the Y variables has one feature to predict.\n",
        "print(X_train.shape, X_val.shape, X_test.shape, Y_train.shape, Y_val.shape, Y_test.shape)"
      ],
      "execution_count": 7,
      "outputs": [
        {
          "output_type": "stream",
          "text": [
            "(1168, 10) (146, 10) (146, 10) (1168,) (146,) (146,)\n"
          ],
          "name": "stdout"
        }
      ]
    },
    {
      "cell_type": "code",
      "metadata": {
        "id": "KVr0mdjs88jK"
      },
      "source": [
        "#Building model\n",
        "from keras.models import Sequential\n",
        "from keras.layers import Dense\n",
        "\n",
        "model = Sequential([\n",
        "    Dense(32, activation='relu', input_shape=(10,)),\n",
        "    Dense(32, activation='relu'),\n",
        "    Dense(32, activation='relu'),\n",
        "    Dense(1, activation='sigmoid')\n",
        "])"
      ],
      "execution_count": 8,
      "outputs": []
    },
    {
      "cell_type": "code",
      "metadata": {
        "id": "f6di-rn38990"
      },
      "source": [
        "model.compile(optimizer='sgd',\n",
        "              loss='binary_crossentropy',\n",
        "              metrics=['accuracy'])"
      ],
      "execution_count": 9,
      "outputs": []
    },
    {
      "cell_type": "code",
      "metadata": {
        "colab": {
          "base_uri": "https://localhost:8080/"
        },
        "id": "dt2QvqV88_9i",
        "outputId": "50dee051-0f7f-4aa6-d3bb-550f65e20c29"
      },
      "source": [
        "#model training\n",
        "histogram = model.fit(X_train, Y_train,\n",
        "          batch_size=32, epochs=100,\n",
        "          validation_data=(X_val, Y_val))"
      ],
      "execution_count": 10,
      "outputs": [
        {
          "output_type": "stream",
          "text": [
            "Epoch 1/100\n",
            "37/37 [==============================] - 14s 16ms/step - loss: 0.6920 - accuracy: 0.5288 - val_loss: 0.6862 - val_accuracy: 0.5205\n",
            "Epoch 2/100\n",
            "37/37 [==============================] - 0s 2ms/step - loss: 0.6862 - accuracy: 0.5016 - val_loss: 0.6812 - val_accuracy: 0.5137\n",
            "Epoch 3/100\n",
            "37/37 [==============================] - 0s 2ms/step - loss: 0.6787 - accuracy: 0.5224 - val_loss: 0.6771 - val_accuracy: 0.5137\n",
            "Epoch 4/100\n",
            "37/37 [==============================] - 0s 2ms/step - loss: 0.6770 - accuracy: 0.5027 - val_loss: 0.6729 - val_accuracy: 0.5205\n",
            "Epoch 5/100\n",
            "37/37 [==============================] - 0s 2ms/step - loss: 0.6713 - accuracy: 0.5155 - val_loss: 0.6671 - val_accuracy: 0.5479\n",
            "Epoch 6/100\n",
            "37/37 [==============================] - 0s 2ms/step - loss: 0.6655 - accuracy: 0.5668 - val_loss: 0.6607 - val_accuracy: 0.6575\n",
            "Epoch 7/100\n",
            "37/37 [==============================] - 0s 2ms/step - loss: 0.6617 - accuracy: 0.6434 - val_loss: 0.6553 - val_accuracy: 0.7534\n",
            "Epoch 8/100\n",
            "37/37 [==============================] - 0s 2ms/step - loss: 0.6547 - accuracy: 0.7214 - val_loss: 0.6490 - val_accuracy: 0.7671\n",
            "Epoch 9/100\n",
            "37/37 [==============================] - 0s 2ms/step - loss: 0.6494 - accuracy: 0.7531 - val_loss: 0.6428 - val_accuracy: 0.7740\n",
            "Epoch 10/100\n",
            "37/37 [==============================] - 0s 2ms/step - loss: 0.6398 - accuracy: 0.7632 - val_loss: 0.6362 - val_accuracy: 0.7808\n",
            "Epoch 11/100\n",
            "37/37 [==============================] - 0s 2ms/step - loss: 0.6326 - accuracy: 0.7759 - val_loss: 0.6290 - val_accuracy: 0.7808\n",
            "Epoch 12/100\n",
            "37/37 [==============================] - 0s 2ms/step - loss: 0.6249 - accuracy: 0.7802 - val_loss: 0.6212 - val_accuracy: 0.7808\n",
            "Epoch 13/100\n",
            "37/37 [==============================] - 0s 2ms/step - loss: 0.6206 - accuracy: 0.7682 - val_loss: 0.6129 - val_accuracy: 0.7945\n",
            "Epoch 14/100\n",
            "37/37 [==============================] - 0s 2ms/step - loss: 0.6111 - accuracy: 0.7876 - val_loss: 0.6038 - val_accuracy: 0.8014\n",
            "Epoch 15/100\n",
            "37/37 [==============================] - 0s 2ms/step - loss: 0.5983 - accuracy: 0.8045 - val_loss: 0.5937 - val_accuracy: 0.8014\n",
            "Epoch 16/100\n",
            "37/37 [==============================] - 0s 2ms/step - loss: 0.5896 - accuracy: 0.8225 - val_loss: 0.5830 - val_accuracy: 0.8288\n",
            "Epoch 17/100\n",
            "37/37 [==============================] - 0s 2ms/step - loss: 0.5815 - accuracy: 0.8201 - val_loss: 0.5711 - val_accuracy: 0.8493\n",
            "Epoch 18/100\n",
            "37/37 [==============================] - 0s 2ms/step - loss: 0.5612 - accuracy: 0.8328 - val_loss: 0.5584 - val_accuracy: 0.8630\n",
            "Epoch 19/100\n",
            "37/37 [==============================] - 0s 3ms/step - loss: 0.5514 - accuracy: 0.8367 - val_loss: 0.5447 - val_accuracy: 0.8699\n",
            "Epoch 20/100\n",
            "37/37 [==============================] - 0s 3ms/step - loss: 0.5356 - accuracy: 0.8582 - val_loss: 0.5298 - val_accuracy: 0.8630\n",
            "Epoch 21/100\n",
            "37/37 [==============================] - 0s 2ms/step - loss: 0.5228 - accuracy: 0.8421 - val_loss: 0.5143 - val_accuracy: 0.8562\n",
            "Epoch 22/100\n",
            "37/37 [==============================] - 0s 2ms/step - loss: 0.5071 - accuracy: 0.8562 - val_loss: 0.4984 - val_accuracy: 0.8493\n",
            "Epoch 23/100\n",
            "37/37 [==============================] - 0s 2ms/step - loss: 0.4883 - accuracy: 0.8582 - val_loss: 0.4816 - val_accuracy: 0.8562\n",
            "Epoch 24/100\n",
            "37/37 [==============================] - 0s 2ms/step - loss: 0.4702 - accuracy: 0.8792 - val_loss: 0.4637 - val_accuracy: 0.8562\n",
            "Epoch 25/100\n",
            "37/37 [==============================] - 0s 2ms/step - loss: 0.4495 - accuracy: 0.8643 - val_loss: 0.4481 - val_accuracy: 0.8562\n",
            "Epoch 26/100\n",
            "37/37 [==============================] - 0s 2ms/step - loss: 0.4370 - accuracy: 0.8628 - val_loss: 0.4313 - val_accuracy: 0.8630\n",
            "Epoch 27/100\n",
            "37/37 [==============================] - 0s 2ms/step - loss: 0.4210 - accuracy: 0.8687 - val_loss: 0.4158 - val_accuracy: 0.8699\n",
            "Epoch 28/100\n",
            "37/37 [==============================] - 0s 2ms/step - loss: 0.3988 - accuracy: 0.8783 - val_loss: 0.4098 - val_accuracy: 0.8562\n",
            "Epoch 29/100\n",
            "37/37 [==============================] - 0s 2ms/step - loss: 0.3886 - accuracy: 0.8780 - val_loss: 0.3909 - val_accuracy: 0.8630\n",
            "Epoch 30/100\n",
            "37/37 [==============================] - 0s 2ms/step - loss: 0.3750 - accuracy: 0.8605 - val_loss: 0.3776 - val_accuracy: 0.8562\n",
            "Epoch 31/100\n",
            "37/37 [==============================] - 0s 2ms/step - loss: 0.3748 - accuracy: 0.8555 - val_loss: 0.3669 - val_accuracy: 0.8630\n",
            "Epoch 32/100\n",
            "37/37 [==============================] - 0s 2ms/step - loss: 0.3446 - accuracy: 0.8888 - val_loss: 0.3575 - val_accuracy: 0.8699\n",
            "Epoch 33/100\n",
            "37/37 [==============================] - 0s 2ms/step - loss: 0.3643 - accuracy: 0.8713 - val_loss: 0.3516 - val_accuracy: 0.8699\n",
            "Epoch 34/100\n",
            "37/37 [==============================] - 0s 3ms/step - loss: 0.3352 - accuracy: 0.8849 - val_loss: 0.3433 - val_accuracy: 0.8630\n",
            "Epoch 35/100\n",
            "37/37 [==============================] - 0s 2ms/step - loss: 0.3270 - accuracy: 0.8832 - val_loss: 0.3362 - val_accuracy: 0.8699\n",
            "Epoch 36/100\n",
            "37/37 [==============================] - 0s 2ms/step - loss: 0.3333 - accuracy: 0.8643 - val_loss: 0.3308 - val_accuracy: 0.8699\n",
            "Epoch 37/100\n",
            "37/37 [==============================] - 0s 2ms/step - loss: 0.3235 - accuracy: 0.8772 - val_loss: 0.3265 - val_accuracy: 0.8699\n",
            "Epoch 38/100\n",
            "37/37 [==============================] - 0s 2ms/step - loss: 0.3281 - accuracy: 0.8769 - val_loss: 0.3250 - val_accuracy: 0.8699\n",
            "Epoch 39/100\n",
            "37/37 [==============================] - 0s 2ms/step - loss: 0.3152 - accuracy: 0.8818 - val_loss: 0.3214 - val_accuracy: 0.8699\n",
            "Epoch 40/100\n",
            "37/37 [==============================] - 0s 2ms/step - loss: 0.3220 - accuracy: 0.8771 - val_loss: 0.3171 - val_accuracy: 0.8767\n",
            "Epoch 41/100\n",
            "37/37 [==============================] - 0s 2ms/step - loss: 0.2903 - accuracy: 0.8921 - val_loss: 0.3122 - val_accuracy: 0.8767\n",
            "Epoch 42/100\n",
            "37/37 [==============================] - 0s 2ms/step - loss: 0.2882 - accuracy: 0.9010 - val_loss: 0.3098 - val_accuracy: 0.8699\n",
            "Epoch 43/100\n",
            "37/37 [==============================] - 0s 2ms/step - loss: 0.2873 - accuracy: 0.8823 - val_loss: 0.3118 - val_accuracy: 0.8767\n",
            "Epoch 44/100\n",
            "37/37 [==============================] - 0s 2ms/step - loss: 0.2805 - accuracy: 0.8915 - val_loss: 0.3050 - val_accuracy: 0.8767\n",
            "Epoch 45/100\n",
            "37/37 [==============================] - 0s 2ms/step - loss: 0.2773 - accuracy: 0.8931 - val_loss: 0.3073 - val_accuracy: 0.8767\n",
            "Epoch 46/100\n",
            "37/37 [==============================] - 0s 2ms/step - loss: 0.2866 - accuracy: 0.8886 - val_loss: 0.3073 - val_accuracy: 0.8767\n",
            "Epoch 47/100\n",
            "37/37 [==============================] - 0s 2ms/step - loss: 0.2687 - accuracy: 0.8892 - val_loss: 0.2996 - val_accuracy: 0.8767\n",
            "Epoch 48/100\n",
            "37/37 [==============================] - 0s 2ms/step - loss: 0.2949 - accuracy: 0.8790 - val_loss: 0.3050 - val_accuracy: 0.8630\n",
            "Epoch 49/100\n",
            "37/37 [==============================] - 0s 2ms/step - loss: 0.3061 - accuracy: 0.8815 - val_loss: 0.3005 - val_accuracy: 0.8836\n",
            "Epoch 50/100\n",
            "37/37 [==============================] - 0s 2ms/step - loss: 0.2873 - accuracy: 0.8860 - val_loss: 0.2974 - val_accuracy: 0.8836\n",
            "Epoch 51/100\n",
            "37/37 [==============================] - 0s 3ms/step - loss: 0.2869 - accuracy: 0.8701 - val_loss: 0.2991 - val_accuracy: 0.8767\n",
            "Epoch 52/100\n",
            "37/37 [==============================] - 0s 3ms/step - loss: 0.2603 - accuracy: 0.8996 - val_loss: 0.2934 - val_accuracy: 0.8767\n",
            "Epoch 53/100\n",
            "37/37 [==============================] - 0s 3ms/step - loss: 0.2403 - accuracy: 0.9054 - val_loss: 0.2927 - val_accuracy: 0.8767\n",
            "Epoch 54/100\n",
            "37/37 [==============================] - 0s 2ms/step - loss: 0.2808 - accuracy: 0.8810 - val_loss: 0.2956 - val_accuracy: 0.8630\n",
            "Epoch 55/100\n",
            "37/37 [==============================] - 0s 2ms/step - loss: 0.2853 - accuracy: 0.8809 - val_loss: 0.2897 - val_accuracy: 0.8836\n",
            "Epoch 56/100\n",
            "37/37 [==============================] - 0s 2ms/step - loss: 0.3041 - accuracy: 0.8775 - val_loss: 0.2890 - val_accuracy: 0.8767\n",
            "Epoch 57/100\n",
            "37/37 [==============================] - 0s 2ms/step - loss: 0.2604 - accuracy: 0.9020 - val_loss: 0.2874 - val_accuracy: 0.8836\n",
            "Epoch 58/100\n",
            "37/37 [==============================] - 0s 2ms/step - loss: 0.2521 - accuracy: 0.8947 - val_loss: 0.2865 - val_accuracy: 0.8836\n",
            "Epoch 59/100\n",
            "37/37 [==============================] - 0s 2ms/step - loss: 0.2881 - accuracy: 0.8806 - val_loss: 0.2889 - val_accuracy: 0.8767\n",
            "Epoch 60/100\n",
            "37/37 [==============================] - 0s 2ms/step - loss: 0.2558 - accuracy: 0.8890 - val_loss: 0.2859 - val_accuracy: 0.8699\n",
            "Epoch 61/100\n",
            "37/37 [==============================] - 0s 2ms/step - loss: 0.2787 - accuracy: 0.8957 - val_loss: 0.2845 - val_accuracy: 0.8699\n",
            "Epoch 62/100\n",
            "37/37 [==============================] - 0s 3ms/step - loss: 0.2657 - accuracy: 0.8998 - val_loss: 0.2838 - val_accuracy: 0.8699\n",
            "Epoch 63/100\n",
            "37/37 [==============================] - 0s 2ms/step - loss: 0.2487 - accuracy: 0.8967 - val_loss: 0.2828 - val_accuracy: 0.8767\n",
            "Epoch 64/100\n",
            "37/37 [==============================] - 0s 2ms/step - loss: 0.2547 - accuracy: 0.8931 - val_loss: 0.2820 - val_accuracy: 0.8699\n",
            "Epoch 65/100\n",
            "37/37 [==============================] - 0s 2ms/step - loss: 0.2565 - accuracy: 0.8982 - val_loss: 0.2864 - val_accuracy: 0.8630\n",
            "Epoch 66/100\n",
            "37/37 [==============================] - 0s 2ms/step - loss: 0.2682 - accuracy: 0.8851 - val_loss: 0.2922 - val_accuracy: 0.8699\n",
            "Epoch 67/100\n",
            "37/37 [==============================] - 0s 2ms/step - loss: 0.2693 - accuracy: 0.8974 - val_loss: 0.2792 - val_accuracy: 0.8699\n",
            "Epoch 68/100\n",
            "37/37 [==============================] - 0s 2ms/step - loss: 0.2536 - accuracy: 0.9017 - val_loss: 0.2782 - val_accuracy: 0.8767\n",
            "Epoch 69/100\n",
            "37/37 [==============================] - 0s 2ms/step - loss: 0.2291 - accuracy: 0.9239 - val_loss: 0.2796 - val_accuracy: 0.8699\n",
            "Epoch 70/100\n",
            "37/37 [==============================] - 0s 2ms/step - loss: 0.2831 - accuracy: 0.8958 - val_loss: 0.2848 - val_accuracy: 0.8630\n",
            "Epoch 71/100\n",
            "37/37 [==============================] - 0s 2ms/step - loss: 0.2536 - accuracy: 0.9051 - val_loss: 0.2817 - val_accuracy: 0.8699\n",
            "Epoch 72/100\n",
            "37/37 [==============================] - 0s 2ms/step - loss: 0.2420 - accuracy: 0.9152 - val_loss: 0.2758 - val_accuracy: 0.8767\n",
            "Epoch 73/100\n",
            "37/37 [==============================] - 0s 2ms/step - loss: 0.2480 - accuracy: 0.8941 - val_loss: 0.2757 - val_accuracy: 0.8699\n",
            "Epoch 74/100\n",
            "37/37 [==============================] - 0s 3ms/step - loss: 0.2992 - accuracy: 0.8905 - val_loss: 0.2827 - val_accuracy: 0.8699\n",
            "Epoch 75/100\n",
            "37/37 [==============================] - 0s 2ms/step - loss: 0.2462 - accuracy: 0.9047 - val_loss: 0.2757 - val_accuracy: 0.8767\n",
            "Epoch 76/100\n",
            "37/37 [==============================] - 0s 2ms/step - loss: 0.2495 - accuracy: 0.9013 - val_loss: 0.2767 - val_accuracy: 0.8562\n",
            "Epoch 77/100\n",
            "37/37 [==============================] - 0s 2ms/step - loss: 0.2308 - accuracy: 0.9027 - val_loss: 0.2818 - val_accuracy: 0.8699\n",
            "Epoch 78/100\n",
            "37/37 [==============================] - 0s 2ms/step - loss: 0.2413 - accuracy: 0.9080 - val_loss: 0.2809 - val_accuracy: 0.8699\n",
            "Epoch 79/100\n",
            "37/37 [==============================] - 0s 2ms/step - loss: 0.2318 - accuracy: 0.9175 - val_loss: 0.2770 - val_accuracy: 0.8699\n",
            "Epoch 80/100\n",
            "37/37 [==============================] - 0s 2ms/step - loss: 0.2794 - accuracy: 0.8710 - val_loss: 0.2732 - val_accuracy: 0.8630\n",
            "Epoch 81/100\n",
            "37/37 [==============================] - 0s 2ms/step - loss: 0.2350 - accuracy: 0.9068 - val_loss: 0.2751 - val_accuracy: 0.8699\n",
            "Epoch 82/100\n",
            "37/37 [==============================] - 0s 2ms/step - loss: 0.2455 - accuracy: 0.8927 - val_loss: 0.2745 - val_accuracy: 0.8630\n",
            "Epoch 83/100\n",
            "37/37 [==============================] - 0s 2ms/step - loss: 0.2531 - accuracy: 0.9017 - val_loss: 0.2698 - val_accuracy: 0.8767\n",
            "Epoch 84/100\n",
            "37/37 [==============================] - 0s 2ms/step - loss: 0.2529 - accuracy: 0.8965 - val_loss: 0.2792 - val_accuracy: 0.8699\n",
            "Epoch 85/100\n",
            "37/37 [==============================] - 0s 2ms/step - loss: 0.2523 - accuracy: 0.8966 - val_loss: 0.2687 - val_accuracy: 0.8767\n",
            "Epoch 86/100\n",
            "37/37 [==============================] - 0s 3ms/step - loss: 0.2226 - accuracy: 0.9137 - val_loss: 0.2700 - val_accuracy: 0.8699\n",
            "Epoch 87/100\n",
            "37/37 [==============================] - 0s 2ms/step - loss: 0.2417 - accuracy: 0.9042 - val_loss: 0.2693 - val_accuracy: 0.8630\n",
            "Epoch 88/100\n",
            "37/37 [==============================] - 0s 3ms/step - loss: 0.2269 - accuracy: 0.9058 - val_loss: 0.2746 - val_accuracy: 0.8699\n",
            "Epoch 89/100\n",
            "37/37 [==============================] - 0s 2ms/step - loss: 0.2556 - accuracy: 0.8990 - val_loss: 0.2700 - val_accuracy: 0.8699\n",
            "Epoch 90/100\n",
            "37/37 [==============================] - 0s 2ms/step - loss: 0.2690 - accuracy: 0.8891 - val_loss: 0.2666 - val_accuracy: 0.8767\n",
            "Epoch 91/100\n",
            "37/37 [==============================] - 0s 2ms/step - loss: 0.2325 - accuracy: 0.9204 - val_loss: 0.2664 - val_accuracy: 0.8767\n",
            "Epoch 92/100\n",
            "37/37 [==============================] - 0s 2ms/step - loss: 0.2340 - accuracy: 0.9113 - val_loss: 0.2657 - val_accuracy: 0.8767\n",
            "Epoch 93/100\n",
            "37/37 [==============================] - 0s 2ms/step - loss: 0.2592 - accuracy: 0.8915 - val_loss: 0.2667 - val_accuracy: 0.8699\n",
            "Epoch 94/100\n",
            "37/37 [==============================] - 0s 2ms/step - loss: 0.2317 - accuracy: 0.9092 - val_loss: 0.2777 - val_accuracy: 0.8767\n",
            "Epoch 95/100\n",
            "37/37 [==============================] - 0s 3ms/step - loss: 0.2585 - accuracy: 0.8930 - val_loss: 0.2754 - val_accuracy: 0.8767\n",
            "Epoch 96/100\n",
            "37/37 [==============================] - 0s 3ms/step - loss: 0.2357 - accuracy: 0.9051 - val_loss: 0.2641 - val_accuracy: 0.8767\n",
            "Epoch 97/100\n",
            "37/37 [==============================] - 0s 3ms/step - loss: 0.2384 - accuracy: 0.9066 - val_loss: 0.2707 - val_accuracy: 0.8699\n",
            "Epoch 98/100\n",
            "37/37 [==============================] - 0s 2ms/step - loss: 0.2375 - accuracy: 0.9008 - val_loss: 0.2669 - val_accuracy: 0.8767\n",
            "Epoch 99/100\n",
            "37/37 [==============================] - 0s 2ms/step - loss: 0.2445 - accuracy: 0.9027 - val_loss: 0.2635 - val_accuracy: 0.8767\n",
            "Epoch 100/100\n",
            "37/37 [==============================] - 0s 2ms/step - loss: 0.2536 - accuracy: 0.8907 - val_loss: 0.2707 - val_accuracy: 0.8699\n"
          ],
          "name": "stdout"
        }
      ]
    },
    {
      "cell_type": "code",
      "metadata": {
        "colab": {
          "base_uri": "https://localhost:8080/"
        },
        "id": "mtKNSS8X9CO5",
        "outputId": "86de6f16-4baa-46d8-8f27-3762f4884cc0"
      },
      "source": [
        "#Accuracy at the Second element.\n",
        "model.evaluate(X_test, Y_test)[1]"
      ],
      "execution_count": 11,
      "outputs": [
        {
          "output_type": "stream",
          "text": [
            "5/5 [==============================] - 0s 3ms/step - loss: 0.2697 - accuracy: 0.8767\n"
          ],
          "name": "stdout"
        },
        {
          "output_type": "execute_result",
          "data": {
            "text/plain": [
              "0.8767123222351074"
            ]
          },
          "metadata": {
            "tags": []
          },
          "execution_count": 11
        }
      ]
    },
    {
      "cell_type": "code",
      "metadata": {
        "colab": {
          "base_uri": "https://localhost:8080/",
          "height": 295
        },
        "id": "XSV01OYy9GHR",
        "outputId": "6f3323e3-412c-479d-a57e-314f1151abd4"
      },
      "source": [
        "#visualizing the model loss check if model is overfit or not\n",
        "plt.plot(histogram.history['loss'])\n",
        "plt.plot(histogram.history['val_loss'])\n",
        "plt.title('Model loss')\n",
        "plt.ylabel('Loss')\n",
        "plt.xlabel('Epoch')\n",
        "plt.legend(['Train', 'Val'], loc='upper right')\n",
        "plt.show()"
      ],
      "execution_count": 12,
      "outputs": [
        {
          "output_type": "display_data",
          "data": {
            "image/png": "[encoded data removed]",
            "text/plain": [
              "<Figure size 432x288 with 1 Axes>"
            ]
          },
          "metadata": {
            "tags": [],
            "needs_background": "light"
          }
        }
      ]
    },
    {
      "cell_type": "code",
      "metadata": {
        "colab": {
          "base_uri": "https://localhost:8080/",
          "height": 295
        },
        "id": "GfI3DlgE9Hy_",
        "outputId": "09929027-7127-4a45-eddd-0fcc80af0795"
      },
      "source": [
        "#visualizing training and validation accuracy for check if the model is overfit\n",
        "plt.plot(histogram.history['accuracy'])\n",
        "plt.plot(histogram.history['val_accuracy'])\n",
        "plt.title('Model accuracy')\n",
        "plt.ylabel('Accuracy')\n",
        "plt.xlabel('Epoch')\n",
        "plt.legend(['Train', 'Val'], loc='lower right')\n",
        "plt.show()"
      ],
      "execution_count": 13,
      "outputs": [
        {
          "output_type": "display_data",
          "data": {
            "image/png": "[encoded data removed]",
            "text/plain": [
              "<Figure size 432x288 with 1 Axes>"
            ]
          },
          "metadata": {
            "tags": [],
            "needs_background": "light"
          }
        }
      ]
    }
  ]
}